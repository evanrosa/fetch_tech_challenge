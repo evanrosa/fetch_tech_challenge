{
 "cells": [
  {
   "metadata": {
    "ExecuteTime": {
     "end_time": "2025-02-11T18:34:33.674434Z",
     "start_time": "2025-02-11T18:34:33.591445Z"
    }
   },
   "cell_type": "code",
   "source": [
    "from sqlalchemy import create_engine\n",
    "import sqlite3\n",
    "import pandas as pd\n",
    "import pickle\n",
    "\n",
    "# Load your pickle file\n",
    "with open(\"/Users/evro/Documents/code/python/fetch/data/validated/users.pkl\", \"rb\") as f:\n",
    "    users = pickle.load(f)\n",
    "with open(\"/Users/evro/Documents/code/python/fetch/data/validated/receipts.pkl\", \"rb\") as f:\n",
    "    receipts = pickle.load(f)\n",
    "with open(\"/Users/evro/Documents/code/python/fetch/data/validated/receipt_item_data.pkl\", \"rb\") as f:\n",
    "    receipt_items = pickle.load(f)\n",
    "with open(\"/Users/evro/Documents/code/python/fetch/data/validated/brands.pkl\", \"rb\") as f:\n",
    "    brands = pickle.load(f)\n",
    "\n",
    "# Create in-memory SQLite DB and load data into separate tables\n",
    "conn = sqlite3.connect(':memory:')\n",
    "users.to_sql('users', conn, index=False, if_exists='replace')\n",
    "receipts.to_sql('receipts', conn, index=False, if_exists='replace')\n",
    "receipt_items.to_sql('receipt_items', conn, index=False, if_exists='replace')\n",
    "brands.to_sql('brands', conn, index=False, if_exists='replace')\n",
    "\n",
    "\n",
    "# Create a SQLAlchemy engine tied to the same connection\n",
    "from sqlalchemy import create_engine\n",
    "engine = create_engine('sqlite://', creator=lambda: conn)\n",
    "\n",
    "# Run a query using pandas\n",
    "query = \"\"\"\n",
    "WITH recent_month AS (\n",
    "  SELECT\n",
    "    date(strftime('%Y-%m-01', 'now'), '-1 month') AS start_date,\n",
    "    strftime('%Y-%m-01', 'now') AS end_date\n",
    ")\n",
    "SELECT\n",
    "  b.name AS brand_name,\n",
    "  COUNT(DISTINCT r.receipt_id) AS receipt_count\n",
    "FROM receipts r\n",
    "JOIN receipt_items ri ON r.receipt_id = ri.receipt_id\n",
    "JOIN brands b ON ri.brand_code = b.brand_code\n",
    "JOIN recent_month rm\n",
    "  ON r.date_scanned >= rm.start_date\n",
    " AND r.date_scanned < rm.end_date\n",
    "GROUP BY b.name\n",
    "ORDER BY receipt_count DESC\n",
    "LIMIT 5;\n",
    "\"\"\"\n",
    "\n",
    "result = pd.read_sql_query(query, engine)\n",
    "result\n"
   ],
   "id": "51fc5430260b2e5f",
   "outputs": [
    {
     "data": {
      "text/plain": [
       "Empty DataFrame\n",
       "Columns: [brand_name, receipt_count]\n",
       "Index: []"
      ],
      "text/html": [
       "<div>\n",
       "<style scoped>\n",
       "    .dataframe tbody tr th:only-of-type {\n",
       "        vertical-align: middle;\n",
       "    }\n",
       "\n",
       "    .dataframe tbody tr th {\n",
       "        vertical-align: top;\n",
       "    }\n",
       "\n",
       "    .dataframe thead th {\n",
       "        text-align: right;\n",
       "    }\n",
       "</style>\n",
       "<table border=\"1\" class=\"dataframe\">\n",
       "  <thead>\n",
       "    <tr style=\"text-align: right;\">\n",
       "      <th></th>\n",
       "      <th>brand_name</th>\n",
       "      <th>receipt_count</th>\n",
       "    </tr>\n",
       "  </thead>\n",
       "  <tbody>\n",
       "  </tbody>\n",
       "</table>\n",
       "</div>"
      ]
     },
     "execution_count": 15,
     "metadata": {},
     "output_type": "execute_result"
    }
   ],
   "execution_count": 15
  }
 ],
 "metadata": {
  "kernelspec": {
   "display_name": "Python 3",
   "language": "python",
   "name": "python3"
  },
  "language_info": {
   "codemirror_mode": {
    "name": "ipython",
    "version": 2
   },
   "file_extension": ".py",
   "mimetype": "text/x-python",
   "name": "python",
   "nbconvert_exporter": "python",
   "pygments_lexer": "ipython2",
   "version": "2.7.6"
  }
 },
 "nbformat": 4,
 "nbformat_minor": 5
}
