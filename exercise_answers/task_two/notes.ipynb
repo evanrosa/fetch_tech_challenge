{
 "cells": [
  {
   "metadata": {
    "ExecuteTime": {
     "end_time": "2025-02-12T01:46:29.466964Z",
     "start_time": "2025-02-12T01:46:28.220383Z"
    }
   },
   "cell_type": "code",
   "source": [
    "import os\n",
    "from sqlalchemy import create_engine\n",
    "import pandas as pd\n",
    "import pickle\n",
    "from urllib.parse import quote_plus\n",
    "from dotenv import load_dotenv\n",
    "\n",
    "load_dotenv()\n",
    "\n",
    "password = os.getenv(\"POSTGRES_PASSWORD\")\n",
    "username = os.getenv(\"POSTGRES_USERNAME\")\n",
    "host = os.getenv(\"POSTGRES_HOST\")\n",
    "port = os.getenv(\"POSTGRES_PORT\")\n",
    "db = os.getenv(\"POSTGRES_DB\")\n",
    "\n",
    "password_encoded = quote_plus(password)\n",
    "\n",
    "# Load your pickle file\n",
    "with open(\"/Users/evro/Documents/code/python/fetch/data/validated/users.pkl\", \"rb\") as f:\n",
    "    users = pickle.load(f)\n",
    "with open(\"/Users/evro/Documents/code/python/fetch/data/validated/receipts.pkl\", \"rb\") as f:\n",
    "    receipts = pickle.load(f)\n",
    "with open(\"/Users/evro/Documents/code/python/fetch/data/validated/receipt_item_data.pkl\", \"rb\") as f:\n",
    "    receipt_items = pickle.load(f)\n",
    "with open(\"/Users/evro/Documents/code/python/fetch/data/validated/brands.pkl\", \"rb\") as f:\n",
    "    brands = pickle.load(f)\n",
    "\n",
    "# Create a SQLAlchemy engine tied to the same connection\n",
    "engine = create_engine(f\"postgresql+psycopg2://{username}:{password_encoded}@{host}:{port}/{db}\")\n",
    "\n",
    "# Write the DataFrames to PostgreSQL tables.\n",
    "users.to_sql('users', engine, index=False, if_exists='replace')\n",
    "receipts.to_sql('receipts', engine, index=False, if_exists='replace')\n",
    "receipt_items.to_sql('receipt_items', engine, index=False, if_exists='replace')\n",
    "brands.to_sql('brands', engine, index=False, if_exists='replace')"
   ],
   "id": "51fc5430260b2e5f",
   "outputs": [
    {
     "data": {
      "text/plain": [
       "167"
      ]
     },
     "execution_count": 1,
     "metadata": {},
     "output_type": "execute_result"
    }
   ],
   "execution_count": 1
  },
  {
   "metadata": {
    "ExecuteTime": {
     "end_time": "2025-02-12T02:14:41.949544Z",
     "start_time": "2025-02-12T02:14:41.941807Z"
    }
   },
   "cell_type": "code",
   "source": [
    "# What are the top 5 brands by receipts scanned for most recent month?\n",
    "q1_a = \"\"\"\n",
    "    SELECT\n",
    "        b.name AS brand_name,\n",
    "        COUNT(r.receipt_id) AS receipts_scanned\n",
    "    FROM receipts r\n",
    "    JOIN receipt_items ri ON r.receipt_id = ri.receipt_id\n",
    "    JOIN brands b ON ri.brand_code = b.brand_code\n",
    "    WHERE\n",
    "        r.date_scanned >  CURRENT_DATE - INTERVAL '1 months'\n",
    "    GROUP BY b.name\n",
    "    ORDER BY receipts_scanned DESC\n",
    "    LIMIT 5;\n",
    "\"\"\"\n",
    "\n",
    "pd.read_sql_query(q1_a, engine)"
   ],
   "id": "5f0170e9c4f946fd",
   "outputs": [
    {
     "data": {
      "text/plain": [
       "Empty DataFrame\n",
       "Columns: [brand_name, receipts_scanned]\n",
       "Index: []"
      ],
      "text/html": [
       "<div>\n",
       "<style scoped>\n",
       "    .dataframe tbody tr th:only-of-type {\n",
       "        vertical-align: middle;\n",
       "    }\n",
       "\n",
       "    .dataframe tbody tr th {\n",
       "        vertical-align: top;\n",
       "    }\n",
       "\n",
       "    .dataframe thead th {\n",
       "        text-align: right;\n",
       "    }\n",
       "</style>\n",
       "<table border=\"1\" class=\"dataframe\">\n",
       "  <thead>\n",
       "    <tr style=\"text-align: right;\">\n",
       "      <th></th>\n",
       "      <th>brand_name</th>\n",
       "      <th>receipts_scanned</th>\n",
       "    </tr>\n",
       "  </thead>\n",
       "  <tbody>\n",
       "  </tbody>\n",
       "</table>\n",
       "</div>"
      ]
     },
     "execution_count": 44,
     "metadata": {},
     "output_type": "execute_result"
    }
   ],
   "execution_count": 44
  },
  {
   "metadata": {
    "ExecuteTime": {
     "end_time": "2025-02-12T01:58:56.295133Z",
     "start_time": "2025-02-12T01:58:56.283974Z"
    }
   },
   "cell_type": "code",
   "source": [
    "# It appears that no data is available for the last month so let's check the scanned dates\n",
    "# If the latest month has low data, it mixes older brands\n",
    "q1_b = \"\"\"\n",
    "select\n",
    "    b.name AS brand_name,\n",
    "    COUNT(r.receipt_id) AS receipts_scanned,\n",
    "    TO_CHAR(r.date_scanned, 'YYYY-MM') AS last_scanned_date\n",
    "from receipts r\n",
    "join receipt_items ri on r.receipt_id = ri.receipt_id\n",
    "JOIN brands b ON ri.brand_code = b.brand_code\n",
    "group by TO_CHAR(r.date_scanned, 'YYYY-MM'), b.name\n",
    "order by TO_CHAR(r.date_scanned, 'YYYY-MM') DESC, COUNT(r.receipt_id) desc\n",
    "limit 5;\n",
    "\"\"\"\n",
    "pd.read_sql_query(q1_b, engine)"
   ],
   "id": "383c4ae3ed44b027",
   "outputs": [
    {
     "data": {
      "text/plain": [
       "  brand_name  receipts_scanned last_scanned_date\n",
       "0       Viva                 1           2021-02\n",
       "1      Pepsi                93           2021-01\n",
       "2    Kleenex                88           2021-01\n",
       "3      KNORR                79           2021-01\n",
       "4    Doritos                77           2021-01"
      ],
      "text/html": [
       "<div>\n",
       "<style scoped>\n",
       "    .dataframe tbody tr th:only-of-type {\n",
       "        vertical-align: middle;\n",
       "    }\n",
       "\n",
       "    .dataframe tbody tr th {\n",
       "        vertical-align: top;\n",
       "    }\n",
       "\n",
       "    .dataframe thead th {\n",
       "        text-align: right;\n",
       "    }\n",
       "</style>\n",
       "<table border=\"1\" class=\"dataframe\">\n",
       "  <thead>\n",
       "    <tr style=\"text-align: right;\">\n",
       "      <th></th>\n",
       "      <th>brand_name</th>\n",
       "      <th>receipts_scanned</th>\n",
       "      <th>last_scanned_date</th>\n",
       "    </tr>\n",
       "  </thead>\n",
       "  <tbody>\n",
       "    <tr>\n",
       "      <th>0</th>\n",
       "      <td>Viva</td>\n",
       "      <td>1</td>\n",
       "      <td>2021-02</td>\n",
       "    </tr>\n",
       "    <tr>\n",
       "      <th>1</th>\n",
       "      <td>Pepsi</td>\n",
       "      <td>93</td>\n",
       "      <td>2021-01</td>\n",
       "    </tr>\n",
       "    <tr>\n",
       "      <th>2</th>\n",
       "      <td>Kleenex</td>\n",
       "      <td>88</td>\n",
       "      <td>2021-01</td>\n",
       "    </tr>\n",
       "    <tr>\n",
       "      <th>3</th>\n",
       "      <td>KNORR</td>\n",
       "      <td>79</td>\n",
       "      <td>2021-01</td>\n",
       "    </tr>\n",
       "    <tr>\n",
       "      <th>4</th>\n",
       "      <td>Doritos</td>\n",
       "      <td>77</td>\n",
       "      <td>2021-01</td>\n",
       "    </tr>\n",
       "  </tbody>\n",
       "</table>\n",
       "</div>"
      ]
     },
     "execution_count": 19,
     "metadata": {},
     "output_type": "execute_result"
    }
   ],
   "execution_count": 19
  },
  {
   "metadata": {
    "ExecuteTime": {
     "end_time": "2025-02-12T02:27:48.158726Z",
     "start_time": "2025-02-12T02:27:48.140814Z"
    }
   },
   "cell_type": "code",
   "source": [
    "# If the latest month doesn’t have 5 brands, expand to the previous month\n",
    "q1_c = \"\"\"\n",
    "WITH month_ranked AS (\n",
    "    SELECT\n",
    "        TO_CHAR(r.date_scanned, 'YYYY-MM') AS month_year,\n",
    "        b.name AS brand_name,\n",
    "        COUNT(r.receipt_id) AS receipts_scanned,\n",
    "        ROW_NUMBER() OVER (PARTITION BY TO_CHAR(r.date_scanned, 'YYYY-MM') ORDER BY COUNT(r.receipt_id) DESC) AS rank_per_month\n",
    "    FROM receipts r\n",
    "    JOIN receipt_items ri ON r.receipt_id = ri.receipt_id\n",
    "    JOIN brands b ON ri.brand_code = b.brand_code\n",
    "    WHERE r.receipt_id IS NOT NULL\n",
    "    GROUP BY month_year, b.name\n",
    "    ORDER BY month_year DESC, receipts_scanned DESC\n",
    "),\n",
    "latest_month AS (\n",
    "    SELECT month_year FROM month_ranked ORDER BY month_year DESC LIMIT 1\n",
    "),\n",
    "expanded_data AS (\n",
    "    SELECT * FROM month_ranked WHERE month_year = (SELECT month_year FROM latest_month)\n",
    "    UNION ALL\n",
    "    SELECT * FROM month_ranked WHERE month_year < (SELECT month_year FROM latest_month)\n",
    "    ORDER BY month_year DESC, receipts_scanned DESC\n",
    "    LIMIT 5\n",
    ")\n",
    "SELECT brand_name, receipts_scanned, month_year\n",
    "FROM expanded_data;\n",
    "\"\"\"\n",
    "pd.read_sql_query(q1_c, engine)"
   ],
   "id": "1277a7a1d9c6232d",
   "outputs": [
    {
     "data": {
      "text/plain": [
       "  brand_name  receipts_scanned month_year\n",
       "0       Viva                 1    2021-02\n",
       "1      Pepsi                93    2021-01\n",
       "2    Kleenex                88    2021-01\n",
       "3      KNORR                79    2021-01\n",
       "4    Doritos                77    2021-01"
      ],
      "text/html": [
       "<div>\n",
       "<style scoped>\n",
       "    .dataframe tbody tr th:only-of-type {\n",
       "        vertical-align: middle;\n",
       "    }\n",
       "\n",
       "    .dataframe tbody tr th {\n",
       "        vertical-align: top;\n",
       "    }\n",
       "\n",
       "    .dataframe thead th {\n",
       "        text-align: right;\n",
       "    }\n",
       "</style>\n",
       "<table border=\"1\" class=\"dataframe\">\n",
       "  <thead>\n",
       "    <tr style=\"text-align: right;\">\n",
       "      <th></th>\n",
       "      <th>brand_name</th>\n",
       "      <th>receipts_scanned</th>\n",
       "      <th>month_year</th>\n",
       "    </tr>\n",
       "  </thead>\n",
       "  <tbody>\n",
       "    <tr>\n",
       "      <th>0</th>\n",
       "      <td>Viva</td>\n",
       "      <td>1</td>\n",
       "      <td>2021-02</td>\n",
       "    </tr>\n",
       "    <tr>\n",
       "      <th>1</th>\n",
       "      <td>Pepsi</td>\n",
       "      <td>93</td>\n",
       "      <td>2021-01</td>\n",
       "    </tr>\n",
       "    <tr>\n",
       "      <th>2</th>\n",
       "      <td>Kleenex</td>\n",
       "      <td>88</td>\n",
       "      <td>2021-01</td>\n",
       "    </tr>\n",
       "    <tr>\n",
       "      <th>3</th>\n",
       "      <td>KNORR</td>\n",
       "      <td>79</td>\n",
       "      <td>2021-01</td>\n",
       "    </tr>\n",
       "    <tr>\n",
       "      <th>4</th>\n",
       "      <td>Doritos</td>\n",
       "      <td>77</td>\n",
       "      <td>2021-01</td>\n",
       "    </tr>\n",
       "  </tbody>\n",
       "</table>\n",
       "</div>"
      ]
     },
     "execution_count": 57,
     "metadata": {},
     "output_type": "execute_result"
    }
   ],
   "execution_count": 57
  },
  {
   "metadata": {
    "ExecuteTime": {
     "end_time": "2025-02-12T02:30:30.920120Z",
     "start_time": "2025-02-12T02:30:30.909921Z"
    }
   },
   "cell_type": "code",
   "source": [
    "# How does the ranking of the top 5 brands by receipts scanned for the recent month compare to the ranking for the previous month?\n",
    "q2 = \"\"\"\n",
    "WITH current_month AS (\n",
    "    SELECT\n",
    "        b.name AS brand_name,\n",
    "        COUNT(r.receipt_id) AS receipts_scanned\n",
    "    FROM receipts r\n",
    "    JOIN receipt_items ri ON r.receipt_id = ri.receipt_id\n",
    "    JOIN brands b ON ri.brand_code = b.brand_code\n",
    "    WHERE\n",
    "        r.date_scanned >= DATE_TRUNC('month', CURRENT_DATE - INTERVAL '1 month')\n",
    "        AND r.date_scanned < DATE_TRUNC('month', CURRENT_DATE)\n",
    "    GROUP BY b.name\n",
    "    ORDER BY receipts_scanned DESC\n",
    "    LIMIT 5\n",
    "),\n",
    "previous_month AS (\n",
    "    SELECT\n",
    "        b.name AS brand_name,\n",
    "        COUNT(r.receipt_id) AS receipts_scanned\n",
    "    FROM receipts r\n",
    "    JOIN receipt_items ri ON r.receipt_id = ri.receipt_id\n",
    "    JOIN brands b ON ri.brand_code = b.brand_code\n",
    "    WHERE\n",
    "        r.date_scanned >= DATE_TRUNC('month', CURRENT_DATE - INTERVAL '2 month')\n",
    "        AND r.date_scanned < DATE_TRUNC('month', CURRENT_DATE - INTERVAL '1 month')\n",
    "    GROUP BY b.name\n",
    "    ORDER BY receipts_scanned DESC\n",
    "    LIMIT 5\n",
    ")\n",
    "SELECT\n",
    "    cm.brand_name AS current_brand,\n",
    "    cm.receipts_scanned AS current_count,\n",
    "    pm.brand_name AS previous_brand,\n",
    "    pm.receipts_scanned AS previous_count\n",
    "FROM current_month cm\n",
    "FULL OUTER JOIN previous_month pm ON cm.brand_name = pm.brand_name;\n",
    "\n",
    "\"\"\"\n",
    "\n",
    "pd.read_sql_query(q2, engine)"
   ],
   "id": "31ea8256cdb567d2",
   "outputs": [
    {
     "data": {
      "text/plain": [
       "Empty DataFrame\n",
       "Columns: [current_brand, current_count, previous_brand, previous_count]\n",
       "Index: []"
      ],
      "text/html": [
       "<div>\n",
       "<style scoped>\n",
       "    .dataframe tbody tr th:only-of-type {\n",
       "        vertical-align: middle;\n",
       "    }\n",
       "\n",
       "    .dataframe tbody tr th {\n",
       "        vertical-align: top;\n",
       "    }\n",
       "\n",
       "    .dataframe thead th {\n",
       "        text-align: right;\n",
       "    }\n",
       "</style>\n",
       "<table border=\"1\" class=\"dataframe\">\n",
       "  <thead>\n",
       "    <tr style=\"text-align: right;\">\n",
       "      <th></th>\n",
       "      <th>current_brand</th>\n",
       "      <th>current_count</th>\n",
       "      <th>previous_brand</th>\n",
       "      <th>previous_count</th>\n",
       "    </tr>\n",
       "  </thead>\n",
       "  <tbody>\n",
       "  </tbody>\n",
       "</table>\n",
       "</div>"
      ]
     },
     "execution_count": 58,
     "metadata": {},
     "output_type": "execute_result"
    }
   ],
   "execution_count": 58
  },
  {
   "metadata": {
    "ExecuteTime": {
     "end_time": "2025-02-12T02:46:35.705610Z",
     "start_time": "2025-02-12T02:46:35.698250Z"
    }
   },
   "cell_type": "code",
   "source": [
    "# When considering average spend from receipts with 'rewardsReceiptStatus’ of ‘Accepted’ or ‘Rejected’, which is greater?\n",
    "\n",
    "# There are not and \"accepted\" values in rewardsReceiptStatus, replacing with finished.\n",
    "q3 = \"\"\"\n",
    "SELECT\n",
    "    rewards_receipt_status,\n",
    "    AVG(total_spent) AS avg_spent\n",
    "FROM receipts\n",
    "WHERE\n",
    "    rewards_receipt_status IN ('FINISHED', 'REJECTED') AND total_spent > 0\n",
    "GROUP BY rewards_receipt_status;\n",
    "\"\"\"\n",
    "\n",
    "pd.read_sql_query(q3, engine)"
   ],
   "id": "e1a405491f761466",
   "outputs": [
    {
     "data": {
      "text/plain": [
       "  rewards_receipt_status  avg_spent\n",
       "0               REJECTED  24.355147\n",
       "1               FINISHED  81.167694"
      ],
      "text/html": [
       "<div>\n",
       "<style scoped>\n",
       "    .dataframe tbody tr th:only-of-type {\n",
       "        vertical-align: middle;\n",
       "    }\n",
       "\n",
       "    .dataframe tbody tr th {\n",
       "        vertical-align: top;\n",
       "    }\n",
       "\n",
       "    .dataframe thead th {\n",
       "        text-align: right;\n",
       "    }\n",
       "</style>\n",
       "<table border=\"1\" class=\"dataframe\">\n",
       "  <thead>\n",
       "    <tr style=\"text-align: right;\">\n",
       "      <th></th>\n",
       "      <th>rewards_receipt_status</th>\n",
       "      <th>avg_spent</th>\n",
       "    </tr>\n",
       "  </thead>\n",
       "  <tbody>\n",
       "    <tr>\n",
       "      <th>0</th>\n",
       "      <td>REJECTED</td>\n",
       "      <td>24.355147</td>\n",
       "    </tr>\n",
       "    <tr>\n",
       "      <th>1</th>\n",
       "      <td>FINISHED</td>\n",
       "      <td>81.167694</td>\n",
       "    </tr>\n",
       "  </tbody>\n",
       "</table>\n",
       "</div>"
      ]
     },
     "execution_count": 68,
     "metadata": {},
     "output_type": "execute_result"
    }
   ],
   "execution_count": 68
  },
  {
   "metadata": {
    "ExecuteTime": {
     "end_time": "2025-02-12T02:47:25.766587Z",
     "start_time": "2025-02-12T02:47:25.757910Z"
    }
   },
   "cell_type": "code",
   "source": [
    "# When considering total number of items purchased from receipts with 'rewardsReceiptStatus’ of ‘Accepted’ or ‘Rejected’, which is greater?\n",
    "\n",
    "# There are not and \"accepted\" values in rewardsReceiptStatus, replacing with finished.\n",
    "q4 = \"\"\"\n",
    "SELECT\n",
    "    rewards_receipt_status,\n",
    "    SUM(purchased_item_count) AS total_items\n",
    "FROM receipts\n",
    "WHERE\n",
    "    rewards_receipt_status IN ('FINISHED', 'REJECTED')\n",
    "GROUP BY rewards_receipt_status;\n",
    "\n",
    "\"\"\"\n",
    "pd.read_sql_query(q4, engine)"
   ],
   "id": "e8e622d0407f449b",
   "outputs": [
    {
     "data": {
      "text/plain": [
       "  rewards_receipt_status  total_items\n",
       "0               REJECTED        173.0\n",
       "1               FINISHED       8184.0"
      ],
      "text/html": [
       "<div>\n",
       "<style scoped>\n",
       "    .dataframe tbody tr th:only-of-type {\n",
       "        vertical-align: middle;\n",
       "    }\n",
       "\n",
       "    .dataframe tbody tr th {\n",
       "        vertical-align: top;\n",
       "    }\n",
       "\n",
       "    .dataframe thead th {\n",
       "        text-align: right;\n",
       "    }\n",
       "</style>\n",
       "<table border=\"1\" class=\"dataframe\">\n",
       "  <thead>\n",
       "    <tr style=\"text-align: right;\">\n",
       "      <th></th>\n",
       "      <th>rewards_receipt_status</th>\n",
       "      <th>total_items</th>\n",
       "    </tr>\n",
       "  </thead>\n",
       "  <tbody>\n",
       "    <tr>\n",
       "      <th>0</th>\n",
       "      <td>REJECTED</td>\n",
       "      <td>173.0</td>\n",
       "    </tr>\n",
       "    <tr>\n",
       "      <th>1</th>\n",
       "      <td>FINISHED</td>\n",
       "      <td>8184.0</td>\n",
       "    </tr>\n",
       "  </tbody>\n",
       "</table>\n",
       "</div>"
      ]
     },
     "execution_count": 70,
     "metadata": {},
     "output_type": "execute_result"
    }
   ],
   "execution_count": 70
  },
  {
   "metadata": {
    "ExecuteTime": {
     "end_time": "2025-02-12T02:40:17.420904Z",
     "start_time": "2025-02-12T02:40:17.413434Z"
    }
   },
   "cell_type": "code",
   "source": [
    "# Which brand has the most spend among users who were created within the past 6 months?\n",
    "q5 = \"\"\"\n",
    "    SELECT\n",
    "        b.name AS brand_name,\n",
    "        SUM(r.total_spent) AS total_spend\n",
    "    FROM users u\n",
    "    JOIN receipts r ON u.user_id = r.user_id\n",
    "    JOIN receipt_items ri ON r.receipt_id = ri.receipt_id\n",
    "    JOIN brands b ON ri.brand_code = b.brand_code\n",
    "    WHERE\n",
    "        u.created_date >= CURRENT_DATE - INTERVAL '6 months'\n",
    "    GROUP BY b.name\n",
    "    ORDER BY total_spend DESC\n",
    "    LIMIT 1;\n",
    "\"\"\"\n",
    "\n",
    "pd.read_sql_query(q5, engine)"
   ],
   "id": "fb2ab3e74185ae18",
   "outputs": [
    {
     "data": {
      "text/plain": [
       "Empty DataFrame\n",
       "Columns: [brand_name, total_spend]\n",
       "Index: []"
      ],
      "text/html": [
       "<div>\n",
       "<style scoped>\n",
       "    .dataframe tbody tr th:only-of-type {\n",
       "        vertical-align: middle;\n",
       "    }\n",
       "\n",
       "    .dataframe tbody tr th {\n",
       "        vertical-align: top;\n",
       "    }\n",
       "\n",
       "    .dataframe thead th {\n",
       "        text-align: right;\n",
       "    }\n",
       "</style>\n",
       "<table border=\"1\" class=\"dataframe\">\n",
       "  <thead>\n",
       "    <tr style=\"text-align: right;\">\n",
       "      <th></th>\n",
       "      <th>brand_name</th>\n",
       "      <th>total_spend</th>\n",
       "    </tr>\n",
       "  </thead>\n",
       "  <tbody>\n",
       "  </tbody>\n",
       "</table>\n",
       "</div>"
      ]
     },
     "execution_count": 66,
     "metadata": {},
     "output_type": "execute_result"
    }
   ],
   "execution_count": 66
  },
  {
   "metadata": {
    "ExecuteTime": {
     "end_time": "2025-02-12T01:45:04.797722Z",
     "start_time": "2025-02-12T01:45:04.791376Z"
    }
   },
   "cell_type": "code",
   "source": [
    "# Which brand has the most transactions among users who were created within the past 6 months?\n",
    "q6 = \"\"\"\n",
    "    SELECT\n",
    "        b.name AS brand_name,\n",
    "        COUNT(r.receipt_id) AS transaction_count\n",
    "    FROM users u\n",
    "    JOIN receipts r ON u.user_id = r.user_id\n",
    "    JOIN receipt_items ri ON r.receipt_id = ri.receipt_id\n",
    "    JOIN brands b ON ri.brand_code = b.brand_code\n",
    "    WHERE\n",
    "        u.created_date >= CURRENT_DATE - INTERVAL '6 months'\n",
    "    GROUP BY b.name\n",
    "    ORDER BY transaction_count DESC\n",
    "    LIMIT 1;\n",
    "\"\"\"\n",
    "pd.read_sql_query(q6, engine)"
   ],
   "id": "8df4067f05771b7f",
   "outputs": [
    {
     "data": {
      "text/plain": [
       "Empty DataFrame\n",
       "Columns: [brand_name, transaction_count]\n",
       "Index: []"
      ],
      "text/html": [
       "<div>\n",
       "<style scoped>\n",
       "    .dataframe tbody tr th:only-of-type {\n",
       "        vertical-align: middle;\n",
       "    }\n",
       "\n",
       "    .dataframe tbody tr th {\n",
       "        vertical-align: top;\n",
       "    }\n",
       "\n",
       "    .dataframe thead th {\n",
       "        text-align: right;\n",
       "    }\n",
       "</style>\n",
       "<table border=\"1\" class=\"dataframe\">\n",
       "  <thead>\n",
       "    <tr style=\"text-align: right;\">\n",
       "      <th></th>\n",
       "      <th>brand_name</th>\n",
       "      <th>transaction_count</th>\n",
       "    </tr>\n",
       "  </thead>\n",
       "  <tbody>\n",
       "  </tbody>\n",
       "</table>\n",
       "</div>"
      ]
     },
     "execution_count": 111,
     "metadata": {},
     "output_type": "execute_result"
    }
   ],
   "execution_count": 111
  }
 ],
 "metadata": {
  "kernelspec": {
   "display_name": "Python 3.10 (Jupyter)",
   "language": "python",
   "name": "python3.10"
  },
  "language_info": {
   "codemirror_mode": {
    "name": "ipython",
    "version": 2
   },
   "file_extension": ".py",
   "mimetype": "text/x-python",
   "name": "python",
   "nbconvert_exporter": "python",
   "pygments_lexer": "ipython2",
   "version": "2.7.6"
  }
 },
 "nbformat": 4,
 "nbformat_minor": 5
}
